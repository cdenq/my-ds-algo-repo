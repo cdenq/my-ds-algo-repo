{
 "cells": [
  {
   "cell_type": "markdown",
   "metadata": {},
   "source": [
    "# Code Assignment"
   ]
  },
  {
   "cell_type": "code",
   "execution_count": 13,
   "metadata": {},
   "outputs": [],
   "source": [
    "#code up an insertion sort"
   ]
  },
  {
   "cell_type": "code",
   "execution_count": 40,
   "metadata": {},
   "outputs": [],
   "source": [
    "def insertion_sort(arr):\n",
    "    for i in range(len(arr)):\n",
    "        temp_val = arr[i]\n",
    "        sub_arr_pos = i - 1\n",
    "        while (sub_arr_pos >= 0) & (arr[sub_arr_pos] > temp_val):\n",
    "            arr[sub_arr_pos + 1] = arr[sub_arr_pos]\n",
    "            sub_arr_pos -= 1\n",
    "        arr[sub_arr_pos+1] = temp_val\n",
    "    return arr"
   ]
  },
  {
   "cell_type": "code",
   "execution_count": 41,
   "metadata": {},
   "outputs": [
    {
     "name": "stdout",
     "output_type": "stream",
     "text": [
      "[1, 1, 2, 3, 3, 5, 5, 6, 6, 9]\n"
     ]
    }
   ],
   "source": [
    "arr = [5, 6, 1, 3, 5, 1, 2, 6, 9, 3]\n",
    "print(insertion_sort(arr))"
   ]
  },
  {
   "cell_type": "markdown",
   "metadata": {},
   "source": [
    "# Code Analysis"
   ]
  },
  {
   "cell_type": "code",
   "execution_count": null,
   "metadata": {},
   "outputs": [],
   "source": [
    "#demonstrate algorithm correctness\n",
    "\n",
    "'''\n",
    "\n",
    "'''"
   ]
  },
  {
   "cell_type": "code",
   "execution_count": null,
   "metadata": {},
   "outputs": [],
   "source": [
    "#demonstrate algorithm efficiency\n",
    "\n",
    "'''\n",
    "worst case time: O(n2), given an array that is reverse sorted\n",
    "average time: O(n2)\n",
    "best case time: O(n), given an array that is already sorted\n",
    "space: O(n) if including space for the input, aux space would be O(1)\n",
    "'''"
   ]
  }
 ],
 "metadata": {
  "interpreter": {
   "hash": "ea2b65024e24df10fa5992686c1c8510a4831519011fa6b2d6f1788e8385f578"
  },
  "kernelspec": {
   "display_name": "Python 3.8.12 64-bit ('PythonData': conda)",
   "language": "python",
   "name": "python3"
  },
  "language_info": {
   "codemirror_mode": {
    "name": "ipython",
    "version": 3
   },
   "file_extension": ".py",
   "mimetype": "text/x-python",
   "name": "python",
   "nbconvert_exporter": "python",
   "pygments_lexer": "ipython3",
   "version": "3.8.12"
  },
  "orig_nbformat": 4
 },
 "nbformat": 4,
 "nbformat_minor": 2
}
