{
 "cells": [
  {
   "cell_type": "markdown",
   "metadata": {},
   "source": [
    "# Selection Sort"
   ]
  },
  {
   "cell_type": "code",
   "execution_count": 1,
   "metadata": {},
   "outputs": [],
   "source": [
    "def selection_sort(arr):\n",
    "    for i in range(len(arr)):\n",
    "        curr_min = arr[i]\n",
    "        swap_index = i\n",
    "        for j in range(i+1, len(arr)):\n",
    "            if arr[j] < curr_min:\n",
    "                curr_min = arr[j]\n",
    "                swap_index = j\n",
    "        arr[i], arr[swap_index] = arr[swap_index], arr[i]\n",
    "    return arr"
   ]
  },
  {
   "cell_type": "code",
   "execution_count": 2,
   "metadata": {},
   "outputs": [
    {
     "name": "stdout",
     "output_type": "stream",
     "text": [
      "[1, 2, 3, 3, 4, 5, 6, 9]\n"
     ]
    }
   ],
   "source": [
    "arr = [4, 3, 5, 1, 2, 6, 9, 3]\n",
    "print(selection_sort(arr))"
   ]
  },
  {
   "cell_type": "markdown",
   "metadata": {},
   "source": [
    "# Code Analysis"
   ]
  },
  {
   "cell_type": "code",
   "execution_count": null,
   "metadata": {},
   "outputs": [],
   "source": [
    "#demonstrate algorithm correctness\n",
    "\n",
    "'''\n",
    "because we are sorting in ascending order, we will designate the leftmost portion of the array to be the \"target sorted region\" and build\n",
    "that leftmost part out to the right.\n",
    "\n",
    "with our selection sort function, at an arbitrary kth pass, we take the min value and swap it with the kth term, which would be the leftmost value in our current selection\n",
    "this will add 1 more sorted element to our sorted region, which now comprises of the first k terms.\n",
    "\n",
    "after n passes, the sorted region will become the entire length of the arr, effectively sorting the entire array\n",
    "'''"
   ]
  },
  {
   "cell_type": "code",
   "execution_count": null,
   "metadata": {},
   "outputs": [],
   "source": [
    "#demonstrate algorithm efficiency\n",
    "\n",
    "'''\n",
    "time: O(n2) all cases\n",
    "space: O(n) if including space for the input, aux space would be O(1)\n",
    "'''"
   ]
  }
 ],
 "metadata": {
  "interpreter": {
   "hash": "ea2b65024e24df10fa5992686c1c8510a4831519011fa6b2d6f1788e8385f578"
  },
  "kernelspec": {
   "display_name": "Python 3.8.12 64-bit ('PythonData': conda)",
   "language": "python",
   "name": "python3"
  },
  "language_info": {
   "codemirror_mode": {
    "name": "ipython",
    "version": 3
   },
   "file_extension": ".py",
   "mimetype": "text/x-python",
   "name": "python",
   "nbconvert_exporter": "python",
   "pygments_lexer": "ipython3",
   "version": "3.8.12"
  },
  "orig_nbformat": 4
 },
 "nbformat": 4,
 "nbformat_minor": 2
}
