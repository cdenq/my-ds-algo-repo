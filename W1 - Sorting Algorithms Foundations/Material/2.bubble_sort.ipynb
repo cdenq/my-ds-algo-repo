{
 "cells": [
  {
   "cell_type": "markdown",
   "metadata": {},
   "source": [
    "# Bubble Sort"
   ]
  },
  {
   "cell_type": "code",
   "execution_count": 14,
   "metadata": {},
   "outputs": [],
   "source": [
    "def bubble_sort(arr):\n",
    "    for i in range(len(arr)):\n",
    "        for j in range(len(arr)-1, i, -1):\n",
    "            if arr[j] < arr[j-1]:\n",
    "                arr[j], arr[j-1] = arr[j-1], arr[j]\n",
    "    return arr"
   ]
  },
  {
   "cell_type": "code",
   "execution_count": 15,
   "metadata": {},
   "outputs": [
    {
     "name": "stdout",
     "output_type": "stream",
     "text": [
      "[1, 2, 3, 3, 4, 5, 6, 9]\n"
     ]
    }
   ],
   "source": [
    "arr = [4, 3, 5, 1, 2, 6, 9, 3]\n",
    "print(bubble_sort(arr))"
   ]
  },
  {
   "cell_type": "markdown",
   "metadata": {},
   "source": [
    "# Code Analysis"
   ]
  },
  {
   "cell_type": "code",
   "execution_count": null,
   "metadata": {},
   "outputs": [],
   "source": [
    "#demonstrate algorithm correctness\n",
    "\n",
    "'''\n",
    "because we are sorting in ascending order, we will designate the leftmost portion of the array to be the \"target sorted region\" and build\n",
    "that leftmost part out to the right.\n",
    "\n",
    "with our bubble sort function, whenever we have a pair of numbers at an arbitrary kth pass, we swap/don't swap them in such a way that it\n",
    "guarentees that the lower number will be on the left. at the end of the kth pass, we would have pushed the local min to leftmost position\n",
    "in the array, adding 1 more element to the sorted region.\n",
    "\n",
    "after n passes, the sorted region will become the entire length of the arr, effectively sorting the entire array\n",
    "'''"
   ]
  },
  {
   "cell_type": "code",
   "execution_count": null,
   "metadata": {},
   "outputs": [],
   "source": [
    "#demonstrate algorithm efficiency\n",
    "\n",
    "'''\n",
    "time: O(n2) all cases\n",
    "space: O(n) if including space for the input, aux space would be O(1)\n",
    "'''"
   ]
  }
 ],
 "metadata": {
  "interpreter": {
   "hash": "ea2b65024e24df10fa5992686c1c8510a4831519011fa6b2d6f1788e8385f578"
  },
  "kernelspec": {
   "display_name": "Python 3.8.12 64-bit ('PythonData': conda)",
   "language": "python",
   "name": "python3"
  },
  "language_info": {
   "codemirror_mode": {
    "name": "ipython",
    "version": 3
   },
   "file_extension": ".py",
   "mimetype": "text/x-python",
   "name": "python",
   "nbconvert_exporter": "python",
   "pygments_lexer": "ipython3",
   "version": "3.8.12"
  },
  "orig_nbformat": 4
 },
 "nbformat": 4,
 "nbformat_minor": 2
}
