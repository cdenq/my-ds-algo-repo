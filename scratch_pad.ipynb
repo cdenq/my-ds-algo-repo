{
 "cells": [
  {
   "cell_type": "code",
   "execution_count": null,
   "metadata": {},
   "outputs": [],
   "source": [
    "import math\n",
    "\n",
    "def quick_select(arr, start, end, index):\n",
    "    if start >= end:\n",
    "        return -1\n",
    "    \n",
    "    piv = lomuto_partition(arr, start, end)\n",
    "    if (index == piv):\n",
    "        return arr[piv]\n",
    "    elif (index < piv):\n",
    "        return quick_select(arr, start, piv, index)\n",
    "    else:\n",
    "        return quick_select(arr, piv, end, index)\n",
    "\n",
    "# from quick sort\n",
    "def lomuto_partition(arr, start, end):\n",
    "    rand = math.rand(start, end)\n",
    "    arr[start], arr[rand] = arr[rand], arr[start]\n",
    "    orange = start\n",
    "    for green in range(start+1, end):\n",
    "        if (arr[green] < arr[start]):\n",
    "            orange += 1\n",
    "            arr[orange], arr[green] = arr[green], arr[orange]\n",
    "    arr[start], arr[orange] = arr[orange], arr[start]\n",
    "    return orange\n",
    "\n",
    "def kth_largest(arr, k):\n",
    "    quick_select(arr, 0, len(arr), len(arr)-k)\n",
    "\n",
    "def kth_smallest(arr,k):\n",
    "    quick_select(arr, 0, len(arr), k-1)"
   ]
  },
  {
   "cell_type": "code",
   "execution_count": null,
   "metadata": {},
   "outputs": [],
   "source": []
  }
 ],
 "metadata": {
  "language_info": {
   "name": "python"
  },
  "orig_nbformat": 4
 },
 "nbformat": 4,
 "nbformat_minor": 2
}
